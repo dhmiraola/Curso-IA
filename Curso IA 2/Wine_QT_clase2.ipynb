{
 "cells": [
  {
   "cell_type": "code",
   "execution_count": null,
   "id": "e0476577-7b42-45fe-9bee-56bbd5a72548",
   "metadata": {},
   "outputs": [],
   "source": [
    "import pandas as pd\n",
    "\n",
    "data = pd.read_csv('WineQT.csv')\n",
    "\n",
    "data.head()"
   ]
  },
  {
   "cell_type": "code",
   "execution_count": null,
   "id": "7ed99955-4065-4ef9-b299-de9239d2aafd",
   "metadata": {},
   "outputs": [],
   "source": [
    "data['quality'].value_counts()"
   ]
  },
  {
   "cell_type": "code",
   "execution_count": null,
   "id": "c2cfe3e4-7840-425b-83cd-bf86d0b94c4e",
   "metadata": {},
   "outputs": [],
   "source": [
    "porcentajes = data['quality'].value_counts(normalize=True) * 100\n",
    "print(porcentajes)"
   ]
  },
  {
   "cell_type": "code",
   "execution_count": null,
   "id": "dd51686d-7296-4786-8521-88c6c68fcce6",
   "metadata": {},
   "outputs": [],
   "source": [
    "data.shape"
   ]
  },
  {
   "cell_type": "code",
   "execution_count": null,
   "id": "0d418fca-548c-4d5a-8324-af04a7ac0788",
   "metadata": {},
   "outputs": [],
   "source": [
    "data.info()"
   ]
  },
  {
   "cell_type": "code",
   "execution_count": null,
   "id": "f328e230-328a-4059-aead-46601c60bb9c",
   "metadata": {},
   "outputs": [],
   "source": [
    "data.isnull().sum()"
   ]
  },
  {
   "cell_type": "code",
   "execution_count": null,
   "id": "ef76cf2b-2d57-4e95-a7cc-03f5f5d562dc",
   "metadata": {},
   "outputs": [],
   "source": [
    "data = data.drop('Id', axis=1)\n",
    "data.head()"
   ]
  },
  {
   "cell_type": "code",
   "execution_count": null,
   "id": "383bc866-b715-4e45-8c03-57e795e1ea55",
   "metadata": {},
   "outputs": [],
   "source": [
    "data.describe()"
   ]
  },
  {
   "cell_type": "code",
   "execution_count": null,
   "id": "13a4df84-85a9-4766-b4de-0169eb4d2213",
   "metadata": {},
   "outputs": [],
   "source": [
    "import matplotlib.pyplot as plt\n",
    "\n",
    "plt.figure(figsize=(25,10))\n",
    "\n",
    "for i, col in enumerate(data.columns):\n",
    "    plt.subplot((len(data.columns) + 4) // 5, 5, i + 1)\n",
    "    plt.hist(data[col], bins=20, color='skyblue', edgecolor='black')\n",
    "    plt.title(col)\n",
    "plt.show()"
   ]
  },
  {
   "cell_type": "code",
   "execution_count": null,
   "id": "82cdfe5e-7a12-4202-a543-9749d4c8f2e7",
   "metadata": {},
   "outputs": [],
   "source": [
    "import matplotlib.pyplot as plt\n",
    "\n",
    "plt.figure(figsize=(25,10))\n",
    "\n",
    "for i, col in enumerate(data.columns):\n",
    "    plt.subplot((len(data.columns) + 4) // 5, 5, i + 1)\n",
    "    plt.boxplot(data[col])\n",
    "    plt.title(col)\n",
    "plt.show()"
   ]
  },
  {
   "cell_type": "markdown",
   "id": "a22b3024-741a-4af6-a984-2d6fdf3a2c8b",
   "metadata": {},
   "source": [
    "# Construir nuestra red neuronal"
   ]
  },
  {
   "cell_type": "code",
   "execution_count": null,
   "id": "7ded5fbe-9d6e-475e-883b-a1f590050ae6",
   "metadata": {},
   "outputs": [],
   "source": [
    "# Separar los datos\n",
    "\n",
    "X = data.drop('quality', axis=1)\n",
    "y = data['quality']"
   ]
  },
  {
   "cell_type": "code",
   "execution_count": null,
   "id": "ac26f547-f89c-4b0f-9469-29dc9a2834c3",
   "metadata": {},
   "outputs": [],
   "source": [
    "# Division de los datos\n",
    "\n",
    "from sklearn.model_selection import train_test_split\n",
    "\n",
    "X_train, X_test, y_train, y_test = train_test_split(X, y, train_size=0.8, random_state=42, stratify=y)"
   ]
  },
  {
   "cell_type": "code",
   "execution_count": null,
   "id": "40e5f27b-8cd5-4f85-b70d-5eba112e63b2",
   "metadata": {},
   "outputs": [],
   "source": [
    "# Normalizar\n",
    "\n",
    "from sklearn.preprocessing import StandardScaler\n",
    "\n",
    "scaler = StandardScaler()\n",
    "X_train_norm = scaler.fit_transform(X_train) \n",
    "X_test_norm = scaler.fit_transform(X_test) "
   ]
  },
  {
   "cell_type": "code",
   "execution_count": null,
   "id": "ad0b97d8-0e82-4a3e-a4a9-d65715de361d",
   "metadata": {},
   "outputs": [],
   "source": [
    "from tensorflow.keras.models import Sequential\n",
    "from tensorflow.keras.layers import Input, Dense\n",
    "from tensorflow.keras.optimizers import Adam\n",
    "from sklearn.preprocessing import LabelEncoder\n",
    "from sklearn.model_selection import train_test_split\n",
    "import numpy as np\n",
    "\n",
    "\n",
    "# Codificar las clases\n",
    "encoder = LabelEncoder()\n",
    "y_encoded = encoder.fit_transform(y)\n",
    "\n",
    "\n",
    "# División estratificada\n",
    "X_train, X_test, y_train, y_test = train_test_split(\n",
    "    X, y_encoded,\n",
    "    train_size=0.8,\n",
    "    random_state=42,\n",
    "    stratify=y_encoded\n",
    ")\n",
    "\n",
    "# Modelo de red neuronal\n",
    "model = Sequential([\n",
    "    Input(shape=(X_train_norm.shape[1],)),\n",
    "    Dense(64, activation='relu'),\n",
    "    Dense(32, activation='relu'),\n",
    "    Dense(len(np.unique(y_encoded)), activation='softmax')  \n",
    "])\n",
    "\n",
    "model.compile(\n",
    "    optimizer=Adam(learning_rate=0.001),\n",
    "    loss='sparse_categorical_crossentropy',\n",
    "    metrics=['accuracy']\n",
    ")\n",
    "\n",
    "# Entrenamiento\n",
    "model.fit(X_train_norm, y_train, epochs=100, batch_size=16, verbose=1)\n",
    "\n",
    "# Evaluación\n",
    "loss, accuracy = model.evaluate(X_test_norm, y_test, verbose=0)\n",
    "print(f\"Loss: {loss:.4f}  |  Accuracy: {accuracy:.4f}\")\n"
   ]
  },
  {
   "cell_type": "code",
   "execution_count": null,
   "id": "8abc8980-6807-4eee-9722-c7756042ddd1",
   "metadata": {},
   "outputs": [],
   "source": [
    "from sklearn.metrics import confusion_matrix, ConfusionMatrixDisplay\n",
    "import matplotlib.pyplot as plt\n",
    "import numpy as np\n",
    "\n",
    "# Predicciones (en índices de clase)\n",
    "y_pred_probs = model.predict(X_test_norm)\n",
    "y_pred = np.argmax(y_pred_probs, axis=1)\n",
    "\n",
    "# Matriz de confusión\n",
    "cm = confusion_matrix(y_test, y_pred)\n",
    "\n",
    "# Nombres de clases originales\n",
    "class_names = encoder.classes_  # recupera las etiquetas originales\n",
    "\n",
    "# Visualización\n",
    "disp = ConfusionMatrixDisplay(confusion_matrix=cm, display_labels=class_names)\n",
    "disp.plot(cmap='Blues', values_format='d')\n",
    "plt.title('Matriz de Confusión - Red Neuronal')\n",
    "plt.show()\n"
   ]
  },
  {
   "cell_type": "code",
   "execution_count": null,
   "id": "ba09844b-4e19-4f27-90b3-ba620dcdf070",
   "metadata": {},
   "outputs": [],
   "source": [
    "from sklearn.metrics import classification_report\n",
    "import numpy as np\n",
    "\n",
    "y_pred_probs = model.predict(X_test_norm)\n",
    "y_pred = np.argmax(y_pred_probs, axis=1)\n",
    "\n",
    "# Convertir las clases a strings\n",
    "class_names = [str(c) for c in encoder.classes_]\n",
    "\n",
    "# Reporte de clasificación\n",
    "report = classification_report(y_test, y_pred, target_names=class_names, zero_division=0)\n",
    "print(report)\n",
    "\n"
   ]
  },
  {
   "cell_type": "code",
   "execution_count": null,
   "id": "2251b85c-43e1-42fe-937d-2c8cced20319",
   "metadata": {},
   "outputs": [],
   "source": []
  },
  {
   "cell_type": "code",
   "execution_count": null,
   "id": "43d302a4-7342-4984-8f38-021beb639877",
   "metadata": {},
   "outputs": [],
   "source": [
    "# Crear nueva columna con clases agrupadas\n",
    "data['quality_group'] = np.where(data['quality'] <= 5, 'mala', 'buena')\n",
    "\n",
    "data.head()"
   ]
  },
  {
   "cell_type": "code",
   "execution_count": null,
   "id": "46528bf2-d3b3-434c-98c2-6475d171124e",
   "metadata": {},
   "outputs": [],
   "source": [
    "data['quality_group'].value_counts()"
   ]
  },
  {
   "cell_type": "code",
   "execution_count": null,
   "id": "0e2247d4-ad6a-458a-b0e7-939268caf99a",
   "metadata": {},
   "outputs": [],
   "source": [
    "from tensorflow.keras.models import Sequential\n",
    "from tensorflow.keras.layers import Input, Dense\n",
    "from tensorflow.keras.optimizers import Adam\n",
    "from sklearn.model_selection import train_test_split\n",
    "from sklearn.preprocessing import StandardScaler\n",
    "import numpy as np\n",
    "import pandas as pd\n",
    "\n",
    "# 1️Crear variable binaria a partir de 'quality'\n",
    "data['quality_group'] = np.where(data['quality'] <= 5, 0, 1)  # 0 = mala, 1 = buena\n",
    "\n",
    "#  Definir X e y\n",
    "X = data.drop(columns=['quality', 'quality_group'])\n",
    "y = data['quality_group']  # ya numérica\n",
    "\n",
    "# División estratificada\n",
    "X_train, X_test, y_train, y_test = train_test_split(\n",
    "    X, y, test_size=0.2, random_state=42, stratify=y\n",
    ")\n",
    "\n",
    "#  Escalar variables numéricas\n",
    "scaler = StandardScaler()\n",
    "X_train_norm = scaler.fit_transform(X_train)\n",
    "X_test_norm = scaler.transform(X_test)\n",
    "\n",
    "#  Modelo binario\n",
    "model = Sequential([\n",
    "    Input(shape=(X_train_norm.shape[1],)),\n",
    "    Dense(64, activation='relu'),\n",
    "    Dense(32, activation='relu'),\n",
    "    Dense(1, activation='sigmoid')\n",
    "])\n",
    "\n",
    "model.compile(\n",
    "    optimizer=Adam(learning_rate=0.001),\n",
    "    loss='binary_crossentropy',\n",
    "    metrics=['accuracy']\n",
    ")\n",
    "\n",
    "# 6️⃣ Entrenamiento\n",
    "model.fit(X_train_norm, y_train, epochs=100, batch_size=16, verbose=1)\n",
    "\n",
    "# 7️⃣ Evaluación\n",
    "loss, accuracy = model.evaluate(X_test_norm, y_test, verbose=0)\n",
    "print(f\"✅ Loss: {loss:.4f}  |  Accuracy: {accuracy:.4f}\")\n",
    "\n"
   ]
  },
  {
   "cell_type": "code",
   "execution_count": null,
   "id": "bbd7a423-9299-4ab3-8d0b-36ce9ee4fb70",
   "metadata": {},
   "outputs": [],
   "source": [
    "from sklearn.metrics import confusion_matrix, ConfusionMatrixDisplay\n",
    "import matplotlib.pyplot as plt\n",
    "import numpy as np\n",
    "\n",
    "# Obtener predicciones del modelo\n",
    "y_pred_prob = model.predict(X_test_norm)\n",
    "y_pred = (y_pred_prob > 0.5).astype(int).flatten()  # 0 = mala, 1 = buena\n",
    "\n",
    "# Crear matriz de confusión\n",
    "cm = confusion_matrix(y_test, y_pred)\n",
    "\n",
    "# Mostrar etiquetas personalizadas\n",
    "labels = ['Mala calidad', 'Buena calidad']\n",
    "\n",
    "# Visualización\n",
    "disp = ConfusionMatrixDisplay(confusion_matrix=cm, display_labels=labels)\n",
    "disp.plot(cmap='Blues', values_format='d')\n",
    "plt.title('Matriz de Confusión - Clasificación Binaria (Vinos)')\n",
    "plt.show()\n"
   ]
  },
  {
   "cell_type": "code",
   "execution_count": null,
   "id": "927054f8-9731-4ef4-8a99-3fc6208d38f0",
   "metadata": {},
   "outputs": [],
   "source": []
  },
  {
   "cell_type": "code",
   "execution_count": null,
   "id": "cdc7c696-a828-4f29-8d2b-f82530ef8c5d",
   "metadata": {},
   "outputs": [],
   "source": []
  }
 ],
 "metadata": {
  "kernelspec": {
   "display_name": "Python 3 (ipykernel)",
   "language": "python",
   "name": "python3"
  },
  "language_info": {
   "codemirror_mode": {
    "name": "ipython",
    "version": 3
   },
   "file_extension": ".py",
   "mimetype": "text/x-python",
   "name": "python",
   "nbconvert_exporter": "python",
   "pygments_lexer": "ipython3",
   "version": "3.11.13"
  }
 },
 "nbformat": 4,
 "nbformat_minor": 5
}
