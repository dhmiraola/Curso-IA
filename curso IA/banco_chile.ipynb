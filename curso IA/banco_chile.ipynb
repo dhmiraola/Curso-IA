{
 "cells": [
  {
   "cell_type": "code",
   "execution_count": null,
   "id": "4dce3e98",
   "metadata": {},
   "outputs": [],
   "source": [
    "import pandas as pd\n",
    "\n",
    "data = pd.read_excel(\"banco_chile.xlsx\")\n",
    "\n",
    "data.head()"
   ]
  },
  {
   "cell_type": "code",
   "execution_count": null,
   "id": "0510e2bf",
   "metadata": {},
   "outputs": [],
   "source": [
    "data.shape"
   ]
  },
  {
   "cell_type": "code",
   "execution_count": null,
   "id": "78bcf8d1",
   "metadata": {},
   "outputs": [],
   "source": [
    "data.describe()"
   ]
  },
  {
   "cell_type": "code",
   "execution_count": null,
   "id": "fe39a01e",
   "metadata": {},
   "outputs": [],
   "source": [
    "# Para clasificar primero debemos separar en 2 variables independiente y dependiente\n",
    "# X = variables independientes \n",
    "# y = variable dependiente, que es la que quiero predecir o clasificar\n",
    "\n",
    "\n",
    "# creacion de variables independientes\n",
    "X = data.drop('Historial Crediticio', axis=1) \n",
    "# creacion de la variable dependiente\n",
    "y = data['Historial Crediticio']\n"
   ]
  },
  {
   "cell_type": "code",
   "execution_count": null,
   "id": "15a6cc20",
   "metadata": {},
   "outputs": [],
   "source": [
    "# creacion de la variable dependiente\n",
    "\n",
    "y = data['Historial Crediticio']\n",
    "\n",
    "y\n"
   ]
  },
  {
   "cell_type": "code",
   "execution_count": null,
   "id": "8a1b66d3",
   "metadata": {},
   "outputs": [],
   "source": [
    "# seperar los datos en conjunto de entrenamiento y prueba \n",
    "\n",
    "from sklearn.model_selection import train_test_split\n",
    "\n",
    "X_train, X_test, y_train, y_test = train_test_split(X, y, test_size=0.2, random_state=42)"
   ]
  },
  {
   "cell_type": "code",
   "execution_count": null,
   "id": "0da952a6",
   "metadata": {},
   "outputs": [],
   "source": [
    "from sklearn.preprocessing import StandardScaler\n",
    "\n",
    "sc = StandardScaler()\n",
    "X_train = sc.fit_transform(X_train) # datos de entrenamiento estandarizados\n",
    "X_test = sc.transform(X_test) # datos de prueba estandarizados con los parametros de X_train"
   ]
  },
  {
   "attachments": {
    "knn.webp": {
     "image/webp": "[encoded data removed]"
    }
   },
   "cell_type": "markdown",
   "id": "509d3b64",
   "metadata": {},
   "source": [
    "# KNN\n",
    "![knn.webp](attachment:knn.webp)"
   ]
  },
  {
   "cell_type": "code",
   "execution_count": null,
   "id": "b9f2ed88",
   "metadata": {},
   "outputs": [],
   "source": [
    "# Defino el modelo KNN\n",
    "from sklearn.neighbors import KNeighborsClassifier\n",
    "\n",
    "# Crear el modelo con un valor de k=5\n",
    "knn = KNeighborsClassifier(n_neighbors=5)\n",
    "\n",
    "# entrenar el modelo con los datos correspondientes\n",
    "knn.fit(X_train, y_train)\n"
   ]
  },
  {
   "cell_type": "code",
   "execution_count": null,
   "id": "b2f31f99",
   "metadata": {},
   "outputs": [],
   "source": [
    "y_pred_knn = knn.predict(X_test)\n",
    "\n",
    "y_pred_knn"
   ]
  },
  {
   "cell_type": "code",
   "execution_count": null,
   "id": "cc5114c5",
   "metadata": {},
   "outputs": [],
   "source": [
    "from sklearn.metrics import accuracy_score\n",
    "\n",
    "# evaluacion del modelo segun su exactitud\n",
    "accuracy_knn = accuracy_score(y_test, y_pred_knn)\n",
    "accuracy_knn"
   ]
  },
  {
   "cell_type": "code",
   "execution_count": null,
   "id": "89d6d10e",
   "metadata": {},
   "outputs": [],
   "source": [
    "# Obtener las clases\n",
    "class_names = knn.classes_\n",
    "\n",
    "# Predecir con el conjunto de prueba\n",
    "y_pred = knn.predict(X_test)\n",
    "\n",
    "# Matriz de confusión\n",
    "cm = confusion_matrix(y_test, y_pred)\n",
    "\n",
    "# Mostrar la matriz de confusión con un mapa de calor\n",
    "plt.figure(figsize=(10,7))\n",
    "sns.heatmap(cm, annot=True, fmt='d', cmap='Blues', xticklabels=class_names, yticklabels=class_names)\n",
    "plt.xlabel('Predicted')\n",
    "plt.ylabel('True')\n",
    "plt.title('Confusion Matrix')\n",
    "plt.show()\n",
    "\n",
    "# Calcular y mostrar todas las métricas\n",
    "print(\"Accuracy:\", accuracy_score(y_test, y_pred))\n",
    "print(\"\\nClassification Report:\\n\", classification_report(y_test, y_pred, target_names=class_names))"
   ]
  },
  {
   "cell_type": "markdown",
   "id": "a2e8522e",
   "metadata": {},
   "source": [
    "# Arbol de Clasificacion"
   ]
  },
  {
   "cell_type": "code",
   "execution_count": null,
   "id": "ba2e15f3",
   "metadata": {},
   "outputs": [],
   "source": [
    "from sklearn.tree import DecisionTreeClassifier\n",
    "\n",
    "# Inicializar el clasificador de árbol de decisión\n",
    "dt = DecisionTreeClassifier(random_state=42)"
   ]
  },
  {
   "cell_type": "code",
   "execution_count": null,
   "id": "208eb0c7",
   "metadata": {},
   "outputs": [],
   "source": [
    "# Entrenar el clasificador con el conjunto de entrenamiento\n",
    "dt.fit(X_train, y_train)"
   ]
  },
  {
   "cell_type": "code",
   "execution_count": null,
   "id": "a1858a7c",
   "metadata": {},
   "outputs": [],
   "source": [
    "# Realizar predicciones en el conjunto de prueba\n",
    "y_pred_dt = dt.predict(X_test)\n",
    "\n",
    "y_pred_dt"
   ]
  },
  {
   "cell_type": "code",
   "execution_count": null,
   "id": "82612c5e",
   "metadata": {},
   "outputs": [],
   "source": [
    "# Calcular la precisión del modelo\n",
    "accuracy_dt = accuracy_score(y_test, y_pred_dt)\n",
    "accuracy_dt"
   ]
  },
  {
   "cell_type": "markdown",
   "id": "f50db7f6",
   "metadata": {},
   "source": [
    "# Naive Bayes"
   ]
  },
  {
   "cell_type": "code",
   "execution_count": null,
   "id": "2863cfb3",
   "metadata": {},
   "outputs": [],
   "source": [
    "from sklearn.naive_bayes import GaussianNB\n",
    "# Inicializar el clasificador Naive Bayes\n",
    "nb = GaussianNB()"
   ]
  },
  {
   "cell_type": "code",
   "execution_count": null,
   "id": "b3b1e95a",
   "metadata": {},
   "outputs": [],
   "source": [
    "# Entrenar el modelo\n",
    "nb.fit(X_train, y_train)\n"
   ]
  },
  {
   "cell_type": "code",
   "execution_count": null,
   "id": "aea9e7da",
   "metadata": {},
   "outputs": [],
   "source": [
    "# Predecir las etiquetas de los datos de prueba\n",
    "y_pred_nb = nb.predict(X_test)\n",
    "y_pred_nb"
   ]
  },
  {
   "cell_type": "code",
   "execution_count": null,
   "id": "429d392f",
   "metadata": {},
   "outputs": [],
   "source": [
    "# Calcular la precisión, matriz de confusión y reporte de clasificación\n",
    "accuracy = accuracy_score(y_test, y_pred_nb)\n",
    "accuracy"
   ]
  },
  {
   "cell_type": "markdown",
   "id": "9ae26cd7",
   "metadata": {},
   "source": [
    "# Bosques Aleatorios (Random Forest)"
   ]
  },
  {
   "cell_type": "code",
   "execution_count": null,
   "id": "79dd7b71",
   "metadata": {},
   "outputs": [],
   "source": [
    "from sklearn.ensemble import RandomForestClassifier\n",
    "# Inicializar el clasificador Random Forest\n",
    "rf = RandomForestClassifier(n_estimators=100, random_state=42)"
   ]
  },
  {
   "cell_type": "code",
   "execution_count": null,
   "id": "6fc67c1c",
   "metadata": {},
   "outputs": [],
   "source": [
    "# Entrenar el modelo\n",
    "rf.fit(X_train, y_train)"
   ]
  },
  {
   "cell_type": "code",
   "execution_count": null,
   "id": "9d3176f8",
   "metadata": {},
   "outputs": [],
   "source": [
    "# Predecir las etiquetas de los datos de prueba\n",
    "y_pred_rf = rf.predict(X_test)\n",
    "\n",
    "y_pred_rf"
   ]
  },
  {
   "cell_type": "code",
   "execution_count": null,
   "id": "f983ee64",
   "metadata": {},
   "outputs": [],
   "source": [
    "# Calcular la precisión, matriz de confusión y reporte de clasificación\n",
    "accuracy_rf = accuracy_score(y_test, y_pred_rf)\n",
    "accuracy_rf"
   ]
  },
  {
   "cell_type": "markdown",
   "id": "44c1522a",
   "metadata": {},
   "source": [
    "# Maquina de Soporte Vectorial (SVM)"
   ]
  },
  {
   "cell_type": "code",
   "execution_count": null,
   "id": "229b324f",
   "metadata": {},
   "outputs": [],
   "source": [
    "from sklearn.svm import SVC\n",
    "\n",
    "# Inicializar el clasificador SVM\n",
    "svm = SVC(kernel='linear', C=1.0, random_state=42)"
   ]
  },
  {
   "cell_type": "code",
   "execution_count": null,
   "id": "c6fb0061",
   "metadata": {},
   "outputs": [],
   "source": [
    "# Entrenar el modelo\n",
    "svm.fit(X_train, y_train)"
   ]
  },
  {
   "cell_type": "code",
   "execution_count": null,
   "id": "426531fc",
   "metadata": {},
   "outputs": [],
   "source": [
    "# Predecir las etiquetas de los datos de prueba\n",
    "y_pred_svm = svm.predict(X_test)\n",
    "y_pred_svm"
   ]
  },
  {
   "cell_type": "code",
   "execution_count": null,
   "id": "5004c037",
   "metadata": {},
   "outputs": [],
   "source": [
    "# Calcular la precisión, matriz de confusión y reporte de clasificación\n",
    "accuracy_svm = accuracy_score(y_test, y_pred_svm)\n",
    "accuracy_svm"
   ]
  },
  {
   "cell_type": "markdown",
   "id": "e67af2ff",
   "metadata": {},
   "source": [
    "# Perceptron Multicapa (MLP)"
   ]
  },
  {
   "cell_type": "code",
   "execution_count": null,
   "id": "324e2a1e",
   "metadata": {},
   "outputs": [],
   "source": [
    "from sklearn.neural_network import MLPClassifier\n",
    "\n",
    "# Inicializar el clasificador MLP (Perceptrón Multicapa)\n",
    "mlp = MLPClassifier(hidden_layer_sizes=(100,), activation='relu', solver='adam', max_iter=300, random_state=42)"
   ]
  },
  {
   "cell_type": "code",
   "execution_count": null,
   "id": "791c5bbe",
   "metadata": {},
   "outputs": [],
   "source": [
    "# Entrenar el modelo\n",
    "mlp.fit(X_train, y_train)"
   ]
  },
  {
   "cell_type": "code",
   "execution_count": null,
   "id": "80dd747f",
   "metadata": {},
   "outputs": [],
   "source": [
    "# Predecir las etiquetas de los datos de prueba\n",
    "y_pred_mlp = mlp.predict(X_test)\n",
    "y_pred_mlp"
   ]
  },
  {
   "cell_type": "code",
   "execution_count": null,
   "id": "9ce33dd4",
   "metadata": {},
   "outputs": [],
   "source": [
    "# Calcular la precisión\n",
    "accuracy_mlp = accuracy_score(y_test, y_pred_mlp)\n",
    "accuracy_mlp"
   ]
  },
  {
   "cell_type": "code",
   "execution_count": null,
   "id": "2ed80389",
   "metadata": {},
   "outputs": [],
   "source": [
    "from sklearn.metrics import accuracy_score, precision_score, recall_score, f1_score\n",
    "from tabulate import tabulate\n",
    "\n",
    "# Supongamos que 'y_test' contiene tus etiquetas verdaderas y 'models_predictions' tus predicciones para cada modelo\n",
    "models_predictions = {\n",
    "    \"KNN\": y_pred_knn,\n",
    "    \"Naive Bayes\": y_pred_nb,\n",
    "    \"Decision Tree\": y_pred_dt,\n",
    "    \"Random Forest\": y_pred_rf,\n",
    "    \"SVM\": y_pred_svm,\n",
    "    \"MLP\": y_pred_mlp\n",
    "}\n",
    "\n",
    "# Lista para almacenar las métricas de cada modelo\n",
    "metrics = []\n",
    "\n",
    "# Calcular métricas para cada modelo y añadir a la lista\n",
    "for model_name, model_pred in models_predictions.items():\n",
    "    model_metrics = [\n",
    "        model_name,\n",
    "        accuracy_score(y_test, model_pred),\n",
    "        precision_score(y_test, model_pred, average='weighted'),\n",
    "        recall_score(y_test, model_pred, average='weighted'),\n",
    "        f1_score(y_test, model_pred, average='weighted')\n",
    "    ]\n",
    "    metrics.append(model_metrics)\n",
    "\n",
    "# Crear la tabla con tabulate\n",
    "headers = [\"Algoritmo\", \"Exactitud\", \"Precisión\", \"Sensibilidad\", \"Medida F1\"]\n",
    "print(tabulate(metrics, headers=headers, tablefmt=\"fancy_grid\"))\n"
   ]
  },
  {
   "cell_type": "code",
   "execution_count": null,
   "id": "11fff268",
   "metadata": {},
   "outputs": [],
   "source": []
  }
 ],
 "metadata": {
  "kernelspec": {
   "display_name": "Python 3 (ipykernel)",
   "language": "python",
   "name": "python3"
  },
  "language_info": {
   "codemirror_mode": {
    "name": "ipython",
    "version": 3
   },
   "file_extension": ".py",
   "mimetype": "text/x-python",
   "name": "python",
   "nbconvert_exporter": "python",
   "pygments_lexer": "ipython3",
   "version": "3.11.13"
  }
 },
 "nbformat": 4,
 "nbformat_minor": 5
}
